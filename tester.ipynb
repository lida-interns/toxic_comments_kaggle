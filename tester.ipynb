{
 "cells": [
  {
   "cell_type": "code",
   "execution_count": 1,
   "metadata": {},
   "outputs": [],
   "source": [
    "import numpy as np\n",
    "import pandas as pd\n",
    "from sklearn.model_selection import StratifiedShuffleSplit"
   ]
  },
  {
   "cell_type": "code",
   "execution_count": 35,
   "metadata": {},
   "outputs": [
    {
     "data": {
      "text/plain": [
       "<bound method NDFrame.head of                  id                                       comment_text  toxic  \\\n",
       "0          22256635  Nonsense?  kiss off, geek. what I said is true...      1   \n",
       "1          27450690  \"\\n\\n Please do not vandalize pages, as you di...      0   \n",
       "2          54037174  \"\\n\\n \"\"Points of interest\"\" \\n\\nI removed the...      0   \n",
       "3          77493077  Asking some his nationality is a Racial offenc...      0   \n",
       "4          79357270  The reader here is not going by my say so for ...      0   \n",
       "5          82428052      Fried chickens \\n\\nIs dat sum fried chickens?      0   \n",
       "6          87311443  Why can you put English for example on some pl...      0   \n",
       "7         114749757  Guy Fawkes \\n\\nim a resident in bridgwater and...      0   \n",
       "8         138560519  as far as nicknames go this article is embarra...      0   \n",
       "9         139353149  Woodland Meadows\\nGood to hear that you correc...      0   \n",
       "10        150009866  \"\\n\\nWell I just finished a good bit of editin...      0   \n",
       "11        152276337  Discussion should take place on the article ta...      0   \n",
       "12        153331729  Uh oh, you called my bluff. I am intimidated b...      0   \n",
       "13        153600803  \"\\nWe should also contact the living descendan...      0   \n",
       "14        154186883  \" May 2008 (UTC)\\n\\nNotability of Your New Hea...      0   \n",
       "15        161894108  \"\\n\\nWhile I agree that this article isn't FA ...      0   \n",
       "16        169740962  a Turkish citizen and him having received an a...      0   \n",
       "17        178084608  Please explain why censorship of quality addit...      0   \n",
       "18        208005265  In any case, this edit war will last forever. ...      0   \n",
       "19        224733383  \"\\n\\n \"\"Vandalism\"\" of George Washington \\n\\nW...      0   \n",
       "20        225701312  Why hasn't Alitalia been removed rom the allia...      1   \n",
       "21        237279459  \"\\n\\n Another AfD stats example \\n\\nI hope you...      0   \n",
       "22        254015372  \"\\nI will ;). How about... ah, I've got nothin...      0   \n",
       "23        280570905  \":I have moved some tedious detail in \"\"Survey...      0   \n",
       "24        284253328  @AnnieHall, what separates this from capitalis...      0   \n",
       "25        287371884  .  and its also not random, it was the first c...      0   \n",
       "26        293668009  \"\\nThe Graceful Slick....\\nIs non other than a...      1   \n",
       "27        300891545  \"====Regarding edits made during December 2 20...      0   \n",
       "28        307040060  \"::The section is now called \"\"Discrepancies a...      0   \n",
       "29        340940431  \"\\n\\n Smackdown! \\n\\nGood smackdown on Qatar, ...      0   \n",
       "...             ...                                                ...    ...   \n",
       "95821  999674711016  Gods. I'm an Anglo-Norman-ist, really, not an ...      0   \n",
       "95822  999677373048  \"==T. COTTON LETTER TO THE AYATOLLAHS OF IRAN=...      0   \n",
       "95823  999693619845  Much appreciated \\n\\nThank you! Yours is my fi...      0   \n",
       "95824  999714130533  I do apologize once more to you for my unkind ...      0   \n",
       "95825  999716611707  It has been confirmed that Raul has joined FC ...      0   \n",
       "95826  999731184003  \"\\nThat an article is \"\"more than a definition...      0   \n",
       "95827  999741263322  Calling someone the archetypical unscientific ...      0   \n",
       "95828  999744390044  Just pointing out that if you intend to keep a...      0   \n",
       "95829  999749161210  I'm sorry for not noticing that on the article...      0   \n",
       "95830  999776197636  Can I just say, no-one cares about your opinio...      0   \n",
       "95831  999781781533  See Wikipedia:Administrators#Misuse_of_adminis...      0   \n",
       "95832  999825778693  December 2010\\nPlease stop the foolish edits t...      0   \n",
       "95833  999829405247        Another Unblock Request \\n\\n 137.240.136.80      0   \n",
       "95834  999856640855                   so this can finally be over with      0   \n",
       "95835  999883234532  Oh, okay. Fair enough, then. Thanks for making...      0   \n",
       "95836  999887342595  \"\\nI believe you're out of line. You're specul...      0   \n",
       "95837  999888096837     , 22 April 2007 (UTC)\\n\\nSecond-hander.  21:45      0   \n",
       "95838  999898414104         \"\\nIt's staying. Let's move on.  Corbett \"      0   \n",
       "95839  999903896729  \"\\n\\n Conflict of Interest \\n\\nPm_shef: This i...      0   \n",
       "95840  999909788460  \"\\nPerhaps the single most potent way to balan...      0   \n",
       "95841  999912713635  \"\\n Please don't bother. I was just wondering....      0   \n",
       "95842  999939579242  The article The eighth sea has been speedily d...      0   \n",
       "95843  999945355747  Each alum agrees to how much information can b...      0   \n",
       "95844  999950278781  \"\\n\\n Caucasion vs. white \\n\\nI noticed that t...      0   \n",
       "95845  999976306590  This culture allows people to hold their wives...      1   \n",
       "95846  999977655955  \"\\nI have discussed it, unlike most of those w...      0   \n",
       "95847  999982426659  ps. Almost forgot, Paine don't reply back to t...      1   \n",
       "95848  999982764066  Mamoun Darkazanli\\nFor some reason I am unable...      0   \n",
       "95849  999986890563  Salafi would be a better term. It is more poli...      0   \n",
       "95850  999988164717  making wikipedia a better and more inviting pl...      0   \n",
       "\n",
       "       severe_toxic  obscene  threat  insult  identity_hate  \n",
       "0                 0        0       0       0              0  \n",
       "1                 0        0       0       0              0  \n",
       "2                 0        0       0       0              0  \n",
       "3                 0        0       0       0              0  \n",
       "4                 0        0       0       0              0  \n",
       "5                 0        0       0       0              0  \n",
       "6                 0        0       0       0              0  \n",
       "7                 0        0       0       0              0  \n",
       "8                 0        0       0       0              0  \n",
       "9                 0        0       0       0              0  \n",
       "10                0        0       0       0              0  \n",
       "11                0        0       0       0              0  \n",
       "12                0        0       0       0              0  \n",
       "13                0        0       0       0              0  \n",
       "14                0        0       0       0              0  \n",
       "15                0        0       0       0              0  \n",
       "16                0        0       0       0              0  \n",
       "17                0        0       0       0              0  \n",
       "18                0        0       0       0              0  \n",
       "19                0        0       0       0              0  \n",
       "20                0        0       0       0              0  \n",
       "21                0        0       0       0              0  \n",
       "22                0        0       0       0              0  \n",
       "23                0        0       0       0              0  \n",
       "24                0        0       0       0              0  \n",
       "25                0        0       0       0              0  \n",
       "26                0        0       0       0              0  \n",
       "27                0        0       0       0              0  \n",
       "28                0        0       0       0              0  \n",
       "29                0        0       0       0              0  \n",
       "...             ...      ...     ...     ...            ...  \n",
       "95821             0        0       0       0              0  \n",
       "95822             0        0       0       0              0  \n",
       "95823             0        0       0       0              0  \n",
       "95824             0        0       0       0              0  \n",
       "95825             0        0       0       0              0  \n",
       "95826             0        0       0       0              0  \n",
       "95827             0        0       0       0              0  \n",
       "95828             0        0       0       0              0  \n",
       "95829             0        0       0       0              0  \n",
       "95830             0        0       0       0              0  \n",
       "95831             0        0       0       0              0  \n",
       "95832             0        0       0       0              0  \n",
       "95833             0        0       0       0              0  \n",
       "95834             0        0       0       0              0  \n",
       "95835             0        0       0       0              0  \n",
       "95836             0        0       0       0              0  \n",
       "95837             0        0       0       0              0  \n",
       "95838             0        0       0       0              0  \n",
       "95839             0        0       0       0              0  \n",
       "95840             0        0       0       0              0  \n",
       "95841             0        0       0       0              0  \n",
       "95842             0        0       0       0              0  \n",
       "95843             0        0       0       0              0  \n",
       "95844             0        0       0       0              0  \n",
       "95845             0        1       0       0              0  \n",
       "95846             0        0       0       0              0  \n",
       "95847             0        1       0       0              0  \n",
       "95848             0        0       0       0              0  \n",
       "95849             0        0       0       0              0  \n",
       "95850             0        0       0       0              0  \n",
       "\n",
       "[95851 rows x 8 columns]>"
      ]
     },
     "execution_count": 35,
     "metadata": {},
     "output_type": "execute_result"
    }
   ],
   "source": [
    "data_df = pd.read_csv(\"train.csv\")\n",
    "data_df.head"
   ]
  },
  {
   "cell_type": "code",
   "execution_count": null,
   "metadata": {},
   "outputs": [
    {
     "name": "stdout",
     "output_type": "stream",
     "text": [
      "<generator object BaseShuffleSplit.split at 0x7f42718bf888>\n"
     ]
    }
   ],
   "source": [
    "#comments = all_data[['comment_text']].as_matrix()\n",
    "#labels = all_data.drop(['id', 'comment_text'], axis=1).as_matrix()\n",
    "\n",
    "#stratified_split = StratifiedShuffleSplit(n_splits=2, test_size=0.33)\n",
    "\n",
    "#for train_index, test_index in stratified_split.split(labels, comments):\n",
    "#    comments_train, comments_test = data_x[train_index], data_x[test_index]\n",
    "#    lables_train,   labels_test   = data_y[train_index], data_y[test_index]\n",
    "\n",
    "# transform matrix of plots into lists to pass to a TfidfVectorizer\n",
    "#train_x = [x[0].strip() for x in x_train.tolist()]\n",
    "#test_x = [x[0].strip() for x in x_test.tolist()]\n",
    "\n",
    "\n",
    "\n",
    "# split the data, leave 1/3 out for testing\n",
    "data_x = data_df[['comment_text']].as_matrix()\n",
    "data_y = data_df.drop(['id', 'comment_text'], axis=1).as_matrix()\n",
    "\n",
    "stratified_split = StratifiedShuffleSplit(n_splits=2, test_size=0.33)\n",
    "x = stratified_split.split(data_y, data_x)\n",
    "print(x)\n",
    "\n",
    "for i, j in x:\n",
    "    print(i)\n",
    "\n",
    "#for train_index, test_index in stratified_split.split(data_x, data_y):\n",
    "#    pass\n",
    "#for train_index, test_index in stratified_split.split(data_x, data_y):\n",
    "#    x_train, x_test = data_x[train_index], data_x[test_index]\n",
    "#    y_train, y_test = data_y[train_index], data_y[test_index]\n",
    "\n",
    "# transform matrix of plots into lists to pass to a TfidfVectorizer\n",
    "#train_x = [x[0].strip() for x in x_train.tolist()]\n",
    "#test_x = [x[0].strip() for x in x_test.tolist()]"
   ]
  },
  {
   "cell_type": "code",
   "execution_count": 36,
   "metadata": {},
   "outputs": [
    {
     "data": {
      "text/plain": [
       "4765"
      ]
     },
     "execution_count": 36,
     "metadata": {},
     "output_type": "execute_result"
    }
   ],
   "source": [
    "sum(data_df[\"insult\"].values.tolist())\n",
    "#data_df.drop(['id', 'comment_text'], axis=1).as_matrix()"
   ]
  }
 ],
 "metadata": {
  "kernelspec": {
   "display_name": "Python 3",
   "language": "python",
   "name": "python3"
  },
  "language_info": {
   "codemirror_mode": {
    "name": "ipython",
    "version": 3
   },
   "file_extension": ".py",
   "mimetype": "text/x-python",
   "name": "python",
   "nbconvert_exporter": "python",
   "pygments_lexer": "ipython3",
   "version": "3.5.2"
  }
 },
 "nbformat": 4,
 "nbformat_minor": 2
}
